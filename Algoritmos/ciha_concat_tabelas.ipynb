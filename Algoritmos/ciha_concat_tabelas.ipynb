{
 "cells": [
  {
   "cell_type": "code",
   "execution_count": 1,
   "metadata": {},
   "outputs": [],
   "source": [
    "#Importando as bibliotecas\n",
    "\n",
    "import pandas as pd\n",
    "import numpy as np"
   ]
  },
  {
   "cell_type": "code",
   "execution_count": 2,
   "metadata": {},
   "outputs": [
    {
     "name": "stderr",
     "output_type": "stream",
     "text": [
      "/home/marco/anaconda3/lib/python3.7/site-packages/IPython/core/interactiveshell.py:3063: DtypeWarning: Columns (15) have mixed types.Specify dtype option on import or set low_memory=False.\n",
      "  interactivity=interactivity, compiler=compiler, result=result)\n"
     ]
    }
   ],
   "source": [
    "#Importando as bases\n",
    "\n",
    "df_ac = pd.read_csv(\"dados/estados/ac.csv\")\n",
    "df_al = pd.read_csv(\"dados/estados/al.csv\")\n",
    "df_am = pd.read_csv(\"dados/estados/am.csv\")\n",
    "df_ap = pd.read_csv(\"dados/estados/ap.csv\")\n",
    "df_ba = pd.read_csv(\"dados/estados/ba.csv\")\n",
    "df_ce = pd.read_csv(\"dados/estados/ce.csv\")\n",
    "df_df = pd.read_csv(\"dados/estados/df.csv\")\n",
    "df_es = pd.read_csv(\"dados/estados/es.csv\")\n",
    "df_go = pd.read_csv(\"dados/estados/go.csv\")\n",
    "df_ma = pd.read_csv(\"dados/estados/ma.csv\")\n",
    "df_mg = pd.read_csv(\"dados/estados/mg.csv\")\n",
    "df_ms = pd.read_csv(\"dados/estados/ms.csv\")\n",
    "df_mt = pd.read_csv(\"dados/estados/mt.csv\")\n",
    "df_pa = pd.read_csv(\"dados/estados/pa.csv\")\n",
    "df_pb = pd.read_csv(\"dados/estados/pb.csv\")\n",
    "df_pe = pd.read_csv(\"dados/estados/pe.csv\")\n",
    "df_pi = pd.read_csv(\"dados/estados/pi.csv\")\n",
    "df_pr = pd.read_csv(\"dados/estados/pr.csv\")\n",
    "df_rj = pd.read_csv(\"dados/estados/rj.csv\")\n",
    "df_rn = pd.read_csv(\"dados/estados/rn.csv\")\n",
    "df_ro = pd.read_csv(\"dados/estados/ro.csv\")\n",
    "df_rs = pd.read_csv(\"dados/estados/rs.csv\")\n",
    "df_sc = pd.read_csv(\"dados/estados/sc.csv\")\n",
    "df_se = pd.read_csv(\"dados/estados/se.csv\")\n",
    "df_sp = pd.read_csv(\"dados/estados/sp.csv\")\n",
    "df_to = pd.read_csv(\"dados/estados/to.csv\")"
   ]
  },
  {
   "cell_type": "code",
   "execution_count": 3,
   "metadata": {},
   "outputs": [],
   "source": [
    "#Concatenando as bases (por etapas)\n",
    "\n",
    "df_1 = pd.concat([df_ac, df_al, df_am, df_ap, df_ba])"
   ]
  },
  {
   "cell_type": "code",
   "execution_count": 4,
   "metadata": {},
   "outputs": [],
   "source": [
    "df_2 = pd.concat([df_ce, df_df, df_es, df_go, df_ma])"
   ]
  },
  {
   "cell_type": "code",
   "execution_count": 5,
   "metadata": {},
   "outputs": [],
   "source": [
    "df_3 = pd.concat([df_mg, df_ms, df_mt, df_pa, df_pb])"
   ]
  },
  {
   "cell_type": "code",
   "execution_count": 6,
   "metadata": {},
   "outputs": [],
   "source": [
    "df_4 = pd.concat([df_pe, df_pi, df_pr, df_rj, df_rn])"
   ]
  },
  {
   "cell_type": "code",
   "execution_count": 7,
   "metadata": {},
   "outputs": [],
   "source": [
    "df_5 = pd.concat([df_ro, df_rs, df_sc, df_se, df_to])"
   ]
  },
  {
   "cell_type": "code",
   "execution_count": 8,
   "metadata": {},
   "outputs": [],
   "source": [
    "df_6 = df_sp"
   ]
  },
  {
   "cell_type": "code",
   "execution_count": 9,
   "metadata": {},
   "outputs": [],
   "source": [
    "df_brasil = pd.concat([df_1, df_2, df_3, df_4, df_5, df_6])"
   ]
  },
  {
   "cell_type": "code",
   "execution_count": 10,
   "metadata": {},
   "outputs": [],
   "source": [
    "#Exportando as bases para o formato .csv, já concatenadas\n",
    "\n",
    "df_brasil.to_csv('dados/estados/_BRASIL.csv')"
   ]
  },
  {
   "cell_type": "code",
   "execution_count": null,
   "metadata": {},
   "outputs": [],
   "source": []
  }
 ],
 "metadata": {
  "kernelspec": {
   "display_name": "Python 3",
   "language": "python",
   "name": "python3"
  },
  "language_info": {
   "codemirror_mode": {
    "name": "ipython",
    "version": 3
   },
   "file_extension": ".py",
   "mimetype": "text/x-python",
   "name": "python",
   "nbconvert_exporter": "python",
   "pygments_lexer": "ipython3",
   "version": "3.7.7"
  }
 },
 "nbformat": 4,
 "nbformat_minor": 4
}
