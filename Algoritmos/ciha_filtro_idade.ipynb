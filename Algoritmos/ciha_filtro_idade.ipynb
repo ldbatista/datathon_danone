{
 "cells": [
  {
   "cell_type": "code",
   "execution_count": 1,
   "metadata": {},
   "outputs": [],
   "source": [
    "import pandas as pd\n",
    "import numpy as np"
   ]
  },
  {
   "cell_type": "code",
   "execution_count": 2,
   "metadata": {},
   "outputs": [],
   "source": [
    "#Acrescentando a coluna com a UF, selecionando apenas os idosos (maiores de 59 anos) e exportando a base gerada\n",
    "#df_sp['UF'] = 'SP'\n",
    "df = pd.read_csv(\"dados/UFs/SP.csv\", low_memory=False)\n",
    "df = df.loc[df['IDADE'] > 59]\n",
    "df.to_csv('dados/estados/sp.csv')"
   ]
  },
  {
   "cell_type": "code",
   "execution_count": null,
   "metadata": {},
   "outputs": [],
   "source": []
  }
 ],
 "metadata": {
  "kernelspec": {
   "display_name": "Python 3",
   "language": "python",
   "name": "python3"
  },
  "language_info": {
   "codemirror_mode": {
    "name": "ipython",
    "version": 3
   },
   "file_extension": ".py",
   "mimetype": "text/x-python",
   "name": "python",
   "nbconvert_exporter": "python",
   "pygments_lexer": "ipython3",
   "version": "3.7.7"
  }
 },
 "nbformat": 4,
 "nbformat_minor": 4
}
